{
  "nbformat": 4,
  "nbformat_minor": 0,
  "metadata": {
    "colab": {
      "name": "Image_classification_3&7.ipynb",
      "provenance": [],
      "collapsed_sections": [],
      "authorship_tag": "ABX9TyP4AOMoMjPGsxGFN5D6xiv3",
      "include_colab_link": true
    },
    "kernelspec": {
      "name": "python3",
      "display_name": "Python 3"
    },
    "language_info": {
      "name": "python"
    }
  },
  "cells": [
    {
      "cell_type": "markdown",
      "metadata": {
        "id": "view-in-github",
        "colab_type": "text"
      },
      "source": [
        "<a href=\"https://colab.research.google.com/github/amir925/Image_classification_7-3/blob/main/Image_classification_3%267.ipynb\" target=\"_parent\"><img src=\"https://colab.research.google.com/assets/colab-badge.svg\" alt=\"Open In Colab\"/></a>"
      ]
    },
    {
      "cell_type": "code",
      "source": [
        "'''~~~~ written by: Amirmohammad Ahmadi ~~~'''"
      ],
      "metadata": {
        "colab": {
          "base_uri": "https://localhost:8080/",
          "height": 35
        },
        "id": "afYDuf_WMsqD",
        "outputId": "510a7884-494e-4a56-c67a-c196f54c2d60"
      },
      "execution_count": null,
      "outputs": [
        {
          "output_type": "execute_result",
          "data": {
            "application/vnd.google.colaboratory.intrinsic+json": {
              "type": "string"
            },
            "text/plain": [
              "'~~~~ written by: Amirmohammad Ahmadi ~~~'"
            ]
          },
          "metadata": {},
          "execution_count": 42
        }
      ]
    },
    {
      "cell_type": "code",
      "execution_count": null,
      "metadata": {
        "colab": {
          "base_uri": "https://localhost:8080/"
        },
        "id": "1k8K1-8dU02-",
        "outputId": "bae16c7b-1f1a-41c8-b8c9-a70bd624205b"
      },
      "outputs": [
        {
          "output_type": "stream",
          "name": "stdout",
          "text": [
            "\u001b[K     |████████████████████████████████| 720 kB 8.8 MB/s \n",
            "\u001b[K     |████████████████████████████████| 189 kB 51.5 MB/s \n",
            "\u001b[K     |████████████████████████████████| 46 kB 4.0 MB/s \n",
            "\u001b[K     |████████████████████████████████| 1.2 MB 41.5 MB/s \n",
            "\u001b[K     |████████████████████████████████| 56 kB 4.2 MB/s \n",
            "\u001b[K     |████████████████████████████████| 51 kB 136 kB/s \n",
            "\u001b[?25h"
          ]
        }
      ],
      "source": [
        "!pip install -Uqq fastbook\n",
        "import fastbook \n",
        "# fastbook.setup_book() N mount GDrive\n",
        "from fastbook import * \n",
        "from matplotlib import pyplot as plt\n"
      ]
    },
    {
      "cell_type": "code",
      "source": [
        "path =untar_data(URLs.MNIST_SAMPLE)\n",
        "path # masiri ke data rikhtim toosh"
      ],
      "metadata": {
        "colab": {
          "base_uri": "https://localhost:8080/",
          "height": 54
        },
        "id": "P0o9RxsyVR_A",
        "outputId": "64484850-481f-481b-fc44-68aa61555c10"
      },
      "execution_count": null,
      "outputs": [
        {
          "output_type": "display_data",
          "data": {
            "text/html": [
              "\n",
              "    <div>\n",
              "        <style>\n",
              "            /* Turns off some styling */\n",
              "            progress {\n",
              "                /* gets rid of default border in Firefox and Opera. */\n",
              "                border: none;\n",
              "                /* Needs to be in here for Safari polyfill so background images work as expected. */\n",
              "                background-size: auto;\n",
              "            }\n",
              "            .progress-bar-interrupted, .progress-bar-interrupted::-webkit-progress-bar {\n",
              "                background: #F44336;\n",
              "            }\n",
              "        </style>\n",
              "      <progress value='3219456' class='' max='3214948' style='width:300px; height:20px; vertical-align: middle;'></progress>\n",
              "      100.14% [3219456/3214948 00:00<00:00]\n",
              "    </div>\n",
              "    "
            ],
            "text/plain": [
              "<IPython.core.display.HTML object>"
            ]
          },
          "metadata": {}
        },
        {
          "output_type": "execute_result",
          "data": {
            "text/plain": [
              "Path('/root/.fastai/data/mnist_sample')"
            ]
          },
          "metadata": {},
          "execution_count": 2
        }
      ]
    },
    {
      "cell_type": "code",
      "source": [
        "(path).ls() # to () ke begzari tamiztar masir ra chap mikone"
      ],
      "metadata": {
        "colab": {
          "base_uri": "https://localhost:8080/"
        },
        "id": "K3ySP4rXVlzg",
        "outputId": "960863ff-3c1d-4b3f-dc9f-b7d0b593f631"
      },
      "execution_count": null,
      "outputs": [
        {
          "output_type": "execute_result",
          "data": {
            "text/plain": [
              "(#3) [Path('/root/.fastai/data/mnist_sample/labels.csv'),Path('/root/.fastai/data/mnist_sample/train'),Path('/root/.fastai/data/mnist_sample/valid')]"
            ]
          },
          "metadata": {},
          "execution_count": 3
        }
      ]
    },
    {
      "cell_type": "code",
      "source": [
        "threes = (path/'train/3').ls().sorted() # niyazi be sort nadare\n",
        "sevens = (path/'train/7').ls().sorted()"
      ],
      "metadata": {
        "id": "TALxYzqMWIHA"
      },
      "execution_count": null,
      "outputs": []
    },
    {
      "cell_type": "code",
      "source": [
        " sevens"
      ],
      "metadata": {
        "colab": {
          "base_uri": "https://localhost:8080/"
        },
        "id": "7cS0tFkHW1hw",
        "outputId": "91be61e0-8b2d-4ac0-9fa9-d1ba9ba5ecbc"
      },
      "execution_count": null,
      "outputs": [
        {
          "output_type": "execute_result",
          "data": {
            "text/plain": [
              "(#6265) [Path('/root/.fastai/data/mnist_sample/train/7/10002.png'),Path('/root/.fastai/data/mnist_sample/train/7/1001.png'),Path('/root/.fastai/data/mnist_sample/train/7/10014.png'),Path('/root/.fastai/data/mnist_sample/train/7/10019.png'),Path('/root/.fastai/data/mnist_sample/train/7/10039.png'),Path('/root/.fastai/data/mnist_sample/train/7/10046.png'),Path('/root/.fastai/data/mnist_sample/train/7/10050.png'),Path('/root/.fastai/data/mnist_sample/train/7/10063.png'),Path('/root/.fastai/data/mnist_sample/train/7/10077.png'),Path('/root/.fastai/data/mnist_sample/train/7/10086.png')...]"
            ]
          },
          "metadata": {},
          "execution_count": 5
        }
      ]
    },
    {
      "cell_type": "code",
      "source": [
        "im7_path = sevens[54]"
      ],
      "metadata": {
        "id": "Dajh5TZOXLyZ"
      },
      "execution_count": null,
      "outputs": []
    },
    {
      "cell_type": "code",
      "source": [
        "im7_path"
      ],
      "metadata": {
        "colab": {
          "base_uri": "https://localhost:8080/"
        },
        "id": "1z5juGtnXbNm",
        "outputId": "6255fd5d-eaff-4af0-a21f-870a8526fb64"
      },
      "execution_count": null,
      "outputs": [
        {
          "output_type": "execute_result",
          "data": {
            "text/plain": [
              "Path('/root/.fastai/data/mnist_sample/train/7/10457.png')"
            ]
          },
          "metadata": {},
          "execution_count": 7
        }
      ]
    },
    {
      "cell_type": "code",
      "source": [
        "im7 = Image.open(im7_path)\n",
        "im7 "
      ],
      "metadata": {
        "colab": {
          "base_uri": "https://localhost:8080/",
          "height": 45
        },
        "id": "9BE0kud7YImz",
        "outputId": "135cf504-93ac-45f8-ab87-0525bf36c062"
      },
      "execution_count": null,
      "outputs": [
        {
          "output_type": "execute_result",
          "data": {
            "image/png": "[encoded data removed]",
            "text/plain": [
              "<PIL.PngImagePlugin.PngImageFile image mode=L size=28x28 at 0x7F5A531E8510>"
            ]
          },
          "metadata": {},
          "execution_count": 8
        }
      ]
    },
    {
      "cell_type": "code",
      "source": [
        "im7_array = array (im7)\n",
        "plt.imshow(im7_array) # in pytorch tensor saved in GPU # Imshow get\n",
        "im7_tensor = tensor(im7)\n",
        "plt.imshow(im7_tensor[4:15 , 4:22])"
      ],
      "metadata": {
        "colab": {
          "base_uri": "https://localhost:8080/",
          "height": 270
        },
        "id": "G5SOWvQcXcov",
        "outputId": "7336948a-d3d5-4b8c-84d1-78d58b26f43b"
      },
      "execution_count": null,
      "outputs": [
        {
          "output_type": "execute_result",
          "data": {
            "text/plain": [
              "<matplotlib.image.AxesImage at 0x7f5a52a057d0>"
            ]
          },
          "metadata": {},
          "execution_count": 9
        },
        {
          "output_type": "display_data",
          "data": {
            "image/png": "[encoded data removed]",
            "text/plain": [
              "<Figure size 432x288 with 1 Axes>"
            ]
          },
          "metadata": {
            "needs_background": "light"
          }
        }
      ]
    },
    {
      "cell_type": "code",
      "source": [
        "#--- we can also use pandas DF to visualize them in  a neat way: \n",
        "df = pd.DataFrame(im7_tensor[4:15, 4:22])\n",
        "df.style.set_properties(**{'font-size': '6pt'}).background_gradient('BuPu')"
      ],
      "metadata": {
        "colab": {
          "base_uri": "https://localhost:8080/",
          "height": 394
        },
        "id": "d9DHSLFQYCMN",
        "outputId": "1c5adfc8-0231-456b-e651-fd5b40085ec6"
      },
      "execution_count": null,
      "outputs": [
        {
          "output_type": "execute_result",
          "data": {
            "text/html": [
              "<style type=\"text/css\">\n",
              "#T_df422_row0_col0, #T_df422_row0_col1, #T_df422_row0_col2, #T_df422_row0_col3, #T_df422_row0_col4, #T_df422_row0_col5, #T_df422_row0_col6, #T_df422_row0_col7, #T_df422_row0_col8, #T_df422_row0_col9, #T_df422_row0_col10, #T_df422_row0_col11, #T_df422_row0_col12, #T_df422_row0_col13, #T_df422_row0_col14, #T_df422_row0_col15, #T_df422_row0_col16, #T_df422_row0_col17, #T_df422_row1_col0, #T_df422_row1_col1, #T_df422_row1_col2, #T_df422_row1_col3, #T_df422_row1_col4, #T_df422_row1_col5, #T_df422_row1_col6, #T_df422_row1_col7, #T_df422_row1_col8, #T_df422_row1_col9, #T_df422_row1_col10, #T_df422_row1_col11, #T_df422_row1_col12, #T_df422_row1_col13, #T_df422_row1_col14, #T_df422_row1_col15, #T_df422_row1_col16, #T_df422_row1_col17, #T_df422_row2_col0, #T_df422_row2_col1, #T_df422_row2_col2, #T_df422_row2_col3, #T_df422_row2_col4, #T_df422_row2_col17, #T_df422_row3_col0, #T_df422_row3_col1, #T_df422_row3_col2, #T_df422_row3_col3, #T_df422_row3_col17, #T_df422_row4_col0, #T_df422_row4_col1, #T_df422_row4_col2, #T_df422_row4_col3, #T_df422_row4_col17, #T_df422_row5_col0, #T_df422_row5_col1, #T_df422_row5_col2, #T_df422_row5_col3, #T_df422_row5_col4, #T_df422_row5_col17, #T_df422_row6_col0, #T_df422_row6_col1, #T_df422_row6_col2, #T_df422_row6_col3, #T_df422_row6_col4, #T_df422_row6_col5, #T_df422_row6_col6, #T_df422_row6_col7, #T_df422_row6_col8, #T_df422_row6_col9, #T_df422_row6_col10, #T_df422_row6_col11, #T_df422_row6_col17, #T_df422_row7_col0, #T_df422_row7_col1, #T_df422_row7_col2, #T_df422_row7_col3, #T_df422_row7_col4, #T_df422_row7_col5, #T_df422_row7_col6, #T_df422_row7_col7, #T_df422_row7_col8, #T_df422_row7_col9, #T_df422_row7_col10, #T_df422_row7_col17, #T_df422_row8_col0, #T_df422_row8_col1, #T_df422_row8_col2, #T_df422_row8_col3, #T_df422_row8_col4, #T_df422_row8_col5, #T_df422_row8_col6, #T_df422_row8_col7, #T_df422_row8_col8, #T_df422_row8_col9, #T_df422_row8_col10, #T_df422_row8_col16, #T_df422_row8_col17, #T_df422_row9_col0, #T_df422_row9_col1, #T_df422_row9_col2, #T_df422_row9_col3, #T_df422_row9_col4, #T_df422_row9_col5, #T_df422_row9_col6, #T_df422_row9_col7, #T_df422_row9_col8, #T_df422_row9_col9, #T_df422_row9_col10, #T_df422_row9_col16, #T_df422_row9_col17, #T_df422_row10_col0, #T_df422_row10_col1, #T_df422_row10_col2, #T_df422_row10_col3, #T_df422_row10_col4, #T_df422_row10_col5, #T_df422_row10_col6, #T_df422_row10_col7, #T_df422_row10_col8, #T_df422_row10_col9, #T_df422_row10_col15, #T_df422_row10_col16, #T_df422_row10_col17 {\n",
              "  font-size: 6pt;\n",
              "  background-color: #f7fcfd;\n",
              "  color: #000000;\n",
              "}\n",
              "#T_df422_row2_col5 {\n",
              "  font-size: 6pt;\n",
              "  background-color: #d4e3ef;\n",
              "  color: #000000;\n",
              "}\n",
              "#T_df422_row2_col6, #T_df422_row2_col7, #T_df422_row2_col8 {\n",
              "  font-size: 6pt;\n",
              "  background-color: #8c8dc2;\n",
              "  color: #f1f1f1;\n",
              "}\n",
              "#T_df422_row2_col9 {\n",
              "  font-size: 6pt;\n",
              "  background-color: #8948a0;\n",
              "  color: #f1f1f1;\n",
              "}\n",
              "#T_df422_row2_col10, #T_df422_row2_col11, #T_df422_row2_col12, #T_df422_row2_col13, #T_df422_row2_col14, #T_df422_row3_col4, #T_df422_row3_col5, #T_df422_row3_col6, #T_df422_row3_col7, #T_df422_row3_col8, #T_df422_row3_col9, #T_df422_row3_col15, #T_df422_row3_col16, #T_df422_row4_col6, #T_df422_row4_col7, #T_df422_row4_col8, #T_df422_row4_col9, #T_df422_row4_col15, #T_df422_row4_col16, #T_df422_row5_col15, #T_df422_row5_col16, #T_df422_row6_col15 {\n",
              "  font-size: 6pt;\n",
              "  background-color: #4d004b;\n",
              "  color: #f1f1f1;\n",
              "}\n",
              "#T_df422_row2_col15 {\n",
              "  font-size: 6pt;\n",
              "  background-color: #7b0d76;\n",
              "  color: #f1f1f1;\n",
              "}\n",
              "#T_df422_row2_col16 {\n",
              "  font-size: 6pt;\n",
              "  background-color: #cbdceb;\n",
              "  color: #000000;\n",
              "}\n",
              "#T_df422_row3_col10, #T_df422_row3_col12, #T_df422_row3_col13, #T_df422_row3_col14, #T_df422_row4_col10, #T_df422_row4_col12, #T_df422_row4_col13, #T_df422_row4_col14, #T_df422_row5_col13, #T_df422_row5_col14, #T_df422_row6_col13, #T_df422_row6_col14, #T_df422_row7_col13, #T_df422_row7_col14, #T_df422_row8_col12, #T_df422_row8_col13, #T_df422_row8_col14, #T_df422_row9_col12, #T_df422_row9_col13, #T_df422_row10_col12, #T_df422_row10_col13 {\n",
              "  font-size: 6pt;\n",
              "  background-color: #4f004d;\n",
              "  color: #f1f1f1;\n",
              "}\n",
              "#T_df422_row3_col11, #T_df422_row4_col11, #T_df422_row10_col11 {\n",
              "  font-size: 6pt;\n",
              "  background-color: #50014e;\n",
              "  color: #f1f1f1;\n",
              "}\n",
              "#T_df422_row4_col4 {\n",
              "  font-size: 6pt;\n",
              "  background-color: #8a59a8;\n",
              "  color: #f1f1f1;\n",
              "}\n",
              "#T_df422_row4_col5 {\n",
              "  font-size: 6pt;\n",
              "  background-color: #670864;\n",
              "  color: #f1f1f1;\n",
              "}\n",
              "#T_df422_row5_col5 {\n",
              "  font-size: 6pt;\n",
              "  background-color: #bacfe4;\n",
              "  color: #000000;\n",
              "}\n",
              "#T_df422_row5_col6 {\n",
              "  font-size: 6pt;\n",
              "  background-color: #909fcb;\n",
              "  color: #f1f1f1;\n",
              "}\n",
              "#T_df422_row5_col7, #T_df422_row9_col14 {\n",
              "  font-size: 6pt;\n",
              "  background-color: #8b64ad;\n",
              "  color: #f1f1f1;\n",
              "}\n",
              "#T_df422_row5_col8, #T_df422_row5_col9 {\n",
              "  font-size: 6pt;\n",
              "  background-color: #a9c4de;\n",
              "  color: #000000;\n",
              "}\n",
              "#T_df422_row5_col10, #T_df422_row5_col11, #T_df422_row10_col14 {\n",
              "  font-size: 6pt;\n",
              "  background-color: #aac4de;\n",
              "  color: #000000;\n",
              "}\n",
              "#T_df422_row5_col12 {\n",
              "  font-size: 6pt;\n",
              "  background-color: #9bb6d7;\n",
              "  color: #000000;\n",
              "}\n",
              "#T_df422_row6_col12 {\n",
              "  font-size: 6pt;\n",
              "  background-color: #95a8d0;\n",
              "  color: #f1f1f1;\n",
              "}\n",
              "#T_df422_row6_col16 {\n",
              "  font-size: 6pt;\n",
              "  background-color: #8c8fc2;\n",
              "  color: #f1f1f1;\n",
              "}\n",
              "#T_df422_row7_col11 {\n",
              "  font-size: 6pt;\n",
              "  background-color: #d3e2ef;\n",
              "  color: #000000;\n",
              "}\n",
              "#T_df422_row7_col12 {\n",
              "  font-size: 6pt;\n",
              "  background-color: #770c73;\n",
              "  color: #f1f1f1;\n",
              "}\n",
              "#T_df422_row7_col15 {\n",
              "  font-size: 6pt;\n",
              "  background-color: #84258b;\n",
              "  color: #f1f1f1;\n",
              "}\n",
              "#T_df422_row7_col16 {\n",
              "  font-size: 6pt;\n",
              "  background-color: #e9f2f8;\n",
              "  color: #000000;\n",
              "}\n",
              "#T_df422_row8_col11 {\n",
              "  font-size: 6pt;\n",
              "  background-color: #8c90c3;\n",
              "  color: #f1f1f1;\n",
              "}\n",
              "#T_df422_row8_col15 {\n",
              "  font-size: 6pt;\n",
              "  background-color: #8c74b5;\n",
              "  color: #f1f1f1;\n",
              "}\n",
              "#T_df422_row9_col11 {\n",
              "  font-size: 6pt;\n",
              "  background-color: #6a0867;\n",
              "  color: #f1f1f1;\n",
              "}\n",
              "#T_df422_row9_col15 {\n",
              "  font-size: 6pt;\n",
              "  background-color: #f0f7fa;\n",
              "  color: #000000;\n",
              "}\n",
              "#T_df422_row10_col10 {\n",
              "  font-size: 6pt;\n",
              "  background-color: #95aad0;\n",
              "  color: #f1f1f1;\n",
              "}\n",
              "</style>\n",
              "<table id=\"T_df422_\" class=\"dataframe\">\n",
              "  <thead>\n",
              "    <tr>\n",
              "      <th class=\"blank level0\" >&nbsp;</th>\n",
              "      <th class=\"col_heading level0 col0\" >0</th>\n",
              "      <th class=\"col_heading level0 col1\" >1</th>\n",
              "      <th class=\"col_heading level0 col2\" >2</th>\n",
              "      <th class=\"col_heading level0 col3\" >3</th>\n",
              "      <th class=\"col_heading level0 col4\" >4</th>\n",
              "      <th class=\"col_heading level0 col5\" >5</th>\n",
              "      <th class=\"col_heading level0 col6\" >6</th>\n",
              "      <th class=\"col_heading level0 col7\" >7</th>\n",
              "      <th class=\"col_heading level0 col8\" >8</th>\n",
              "      <th class=\"col_heading level0 col9\" >9</th>\n",
              "      <th class=\"col_heading level0 col10\" >10</th>\n",
              "      <th class=\"col_heading level0 col11\" >11</th>\n",
              "      <th class=\"col_heading level0 col12\" >12</th>\n",
              "      <th class=\"col_heading level0 col13\" >13</th>\n",
              "      <th class=\"col_heading level0 col14\" >14</th>\n",
              "      <th class=\"col_heading level0 col15\" >15</th>\n",
              "      <th class=\"col_heading level0 col16\" >16</th>\n",
              "      <th class=\"col_heading level0 col17\" >17</th>\n",
              "    </tr>\n",
              "  </thead>\n",
              "  <tbody>\n",
              "    <tr>\n",
              "      <th id=\"T_df422_level0_row0\" class=\"row_heading level0 row0\" >0</th>\n",
              "      <td id=\"T_df422_row0_col0\" class=\"data row0 col0\" >0</td>\n",
              "      <td id=\"T_df422_row0_col1\" class=\"data row0 col1\" >0</td>\n",
              "      <td id=\"T_df422_row0_col2\" class=\"data row0 col2\" >0</td>\n",
              "      <td id=\"T_df422_row0_col3\" class=\"data row0 col3\" >0</td>\n",
              "      <td id=\"T_df422_row0_col4\" class=\"data row0 col4\" >0</td>\n",
              "      <td id=\"T_df422_row0_col5\" class=\"data row0 col5\" >0</td>\n",
              "      <td id=\"T_df422_row0_col6\" class=\"data row0 col6\" >0</td>\n",
              "      <td id=\"T_df422_row0_col7\" class=\"data row0 col7\" >0</td>\n",
              "      <td id=\"T_df422_row0_col8\" class=\"data row0 col8\" >0</td>\n",
              "      <td id=\"T_df422_row0_col9\" class=\"data row0 col9\" >0</td>\n",
              "      <td id=\"T_df422_row0_col10\" class=\"data row0 col10\" >0</td>\n",
              "      <td id=\"T_df422_row0_col11\" class=\"data row0 col11\" >0</td>\n",
              "      <td id=\"T_df422_row0_col12\" class=\"data row0 col12\" >0</td>\n",
              "      <td id=\"T_df422_row0_col13\" class=\"data row0 col13\" >0</td>\n",
              "      <td id=\"T_df422_row0_col14\" class=\"data row0 col14\" >0</td>\n",
              "      <td id=\"T_df422_row0_col15\" class=\"data row0 col15\" >0</td>\n",
              "      <td id=\"T_df422_row0_col16\" class=\"data row0 col16\" >0</td>\n",
              "      <td id=\"T_df422_row0_col17\" class=\"data row0 col17\" >0</td>\n",
              "    </tr>\n",
              "    <tr>\n",
              "      <th id=\"T_df422_level0_row1\" class=\"row_heading level0 row1\" >1</th>\n",
              "      <td id=\"T_df422_row1_col0\" class=\"data row1 col0\" >0</td>\n",
              "      <td id=\"T_df422_row1_col1\" class=\"data row1 col1\" >0</td>\n",
              "      <td id=\"T_df422_row1_col2\" class=\"data row1 col2\" >0</td>\n",
              "      <td id=\"T_df422_row1_col3\" class=\"data row1 col3\" >0</td>\n",
              "      <td id=\"T_df422_row1_col4\" class=\"data row1 col4\" >0</td>\n",
              "      <td id=\"T_df422_row1_col5\" class=\"data row1 col5\" >0</td>\n",
              "      <td id=\"T_df422_row1_col6\" class=\"data row1 col6\" >0</td>\n",
              "      <td id=\"T_df422_row1_col7\" class=\"data row1 col7\" >0</td>\n",
              "      <td id=\"T_df422_row1_col8\" class=\"data row1 col8\" >0</td>\n",
              "      <td id=\"T_df422_row1_col9\" class=\"data row1 col9\" >0</td>\n",
              "      <td id=\"T_df422_row1_col10\" class=\"data row1 col10\" >0</td>\n",
              "      <td id=\"T_df422_row1_col11\" class=\"data row1 col11\" >0</td>\n",
              "      <td id=\"T_df422_row1_col12\" class=\"data row1 col12\" >0</td>\n",
              "      <td id=\"T_df422_row1_col13\" class=\"data row1 col13\" >0</td>\n",
              "      <td id=\"T_df422_row1_col14\" class=\"data row1 col14\" >0</td>\n",
              "      <td id=\"T_df422_row1_col15\" class=\"data row1 col15\" >0</td>\n",
              "      <td id=\"T_df422_row1_col16\" class=\"data row1 col16\" >0</td>\n",
              "      <td id=\"T_df422_row1_col17\" class=\"data row1 col17\" >0</td>\n",
              "    </tr>\n",
              "    <tr>\n",
              "      <th id=\"T_df422_level0_row2\" class=\"row_heading level0 row2\" >2</th>\n",
              "      <td id=\"T_df422_row2_col0\" class=\"data row2 col0\" >0</td>\n",
              "      <td id=\"T_df422_row2_col1\" class=\"data row2 col1\" >0</td>\n",
              "      <td id=\"T_df422_row2_col2\" class=\"data row2 col2\" >0</td>\n",
              "      <td id=\"T_df422_row2_col3\" class=\"data row2 col3\" >0</td>\n",
              "      <td id=\"T_df422_row2_col4\" class=\"data row2 col4\" >0</td>\n",
              "      <td id=\"T_df422_row2_col5\" class=\"data row2 col5\" >38</td>\n",
              "      <td id=\"T_df422_row2_col6\" class=\"data row2 col6\" >132</td>\n",
              "      <td id=\"T_df422_row2_col7\" class=\"data row2 col7\" >132</td>\n",
              "      <td id=\"T_df422_row2_col8\" class=\"data row2 col8\" >132</td>\n",
              "      <td id=\"T_df422_row2_col9\" class=\"data row2 col9\" >184</td>\n",
              "      <td id=\"T_df422_row2_col10\" class=\"data row2 col10\" >253</td>\n",
              "      <td id=\"T_df422_row2_col11\" class=\"data row2 col11\" >255</td>\n",
              "      <td id=\"T_df422_row2_col12\" class=\"data row2 col12\" >253</td>\n",
              "      <td id=\"T_df422_row2_col13\" class=\"data row2 col13\" >253</td>\n",
              "      <td id=\"T_df422_row2_col14\" class=\"data row2 col14\" >253</td>\n",
              "      <td id=\"T_df422_row2_col15\" class=\"data row2 col15\" >224</td>\n",
              "      <td id=\"T_df422_row2_col16\" class=\"data row2 col16\" >37</td>\n",
              "      <td id=\"T_df422_row2_col17\" class=\"data row2 col17\" >0</td>\n",
              "    </tr>\n",
              "    <tr>\n",
              "      <th id=\"T_df422_level0_row3\" class=\"row_heading level0 row3\" >3</th>\n",
              "      <td id=\"T_df422_row3_col0\" class=\"data row3 col0\" >0</td>\n",
              "      <td id=\"T_df422_row3_col1\" class=\"data row3 col1\" >0</td>\n",
              "      <td id=\"T_df422_row3_col2\" class=\"data row3 col2\" >0</td>\n",
              "      <td id=\"T_df422_row3_col3\" class=\"data row3 col3\" >0</td>\n",
              "      <td id=\"T_df422_row3_col4\" class=\"data row3 col4\" >28</td>\n",
              "      <td id=\"T_df422_row3_col5\" class=\"data row3 col5\" >222</td>\n",
              "      <td id=\"T_df422_row3_col6\" class=\"data row3 col6\" >252</td>\n",
              "      <td id=\"T_df422_row3_col7\" class=\"data row3 col7\" >252</td>\n",
              "      <td id=\"T_df422_row3_col8\" class=\"data row3 col8\" >252</td>\n",
              "      <td id=\"T_df422_row3_col9\" class=\"data row3 col9\" >252</td>\n",
              "      <td id=\"T_df422_row3_col10\" class=\"data row3 col10\" >252</td>\n",
              "      <td id=\"T_df422_row3_col11\" class=\"data row3 col11\" >253</td>\n",
              "      <td id=\"T_df422_row3_col12\" class=\"data row3 col12\" >252</td>\n",
              "      <td id=\"T_df422_row3_col13\" class=\"data row3 col13\" >252</td>\n",
              "      <td id=\"T_df422_row3_col14\" class=\"data row3 col14\" >252</td>\n",
              "      <td id=\"T_df422_row3_col15\" class=\"data row3 col15\" >252</td>\n",
              "      <td id=\"T_df422_row3_col16\" class=\"data row3 col16\" >180</td>\n",
              "      <td id=\"T_df422_row3_col17\" class=\"data row3 col17\" >0</td>\n",
              "    </tr>\n",
              "    <tr>\n",
              "      <th id=\"T_df422_level0_row4\" class=\"row_heading level0 row4\" >4</th>\n",
              "      <td id=\"T_df422_row4_col0\" class=\"data row4 col0\" >0</td>\n",
              "      <td id=\"T_df422_row4_col1\" class=\"data row4 col1\" >0</td>\n",
              "      <td id=\"T_df422_row4_col2\" class=\"data row4 col2\" >0</td>\n",
              "      <td id=\"T_df422_row4_col3\" class=\"data row4 col3\" >0</td>\n",
              "      <td id=\"T_df422_row4_col4\" class=\"data row4 col4\" >19</td>\n",
              "      <td id=\"T_df422_row4_col5\" class=\"data row4 col5\" >208</td>\n",
              "      <td id=\"T_df422_row4_col6\" class=\"data row4 col6\" >252</td>\n",
              "      <td id=\"T_df422_row4_col7\" class=\"data row4 col7\" >252</td>\n",
              "      <td id=\"T_df422_row4_col8\" class=\"data row4 col8\" >252</td>\n",
              "      <td id=\"T_df422_row4_col9\" class=\"data row4 col9\" >252</td>\n",
              "      <td id=\"T_df422_row4_col10\" class=\"data row4 col10\" >252</td>\n",
              "      <td id=\"T_df422_row4_col11\" class=\"data row4 col11\" >253</td>\n",
              "      <td id=\"T_df422_row4_col12\" class=\"data row4 col12\" >252</td>\n",
              "      <td id=\"T_df422_row4_col13\" class=\"data row4 col13\" >252</td>\n",
              "      <td id=\"T_df422_row4_col14\" class=\"data row4 col14\" >252</td>\n",
              "      <td id=\"T_df422_row4_col15\" class=\"data row4 col15\" >252</td>\n",
              "      <td id=\"T_df422_row4_col16\" class=\"data row4 col16\" >180</td>\n",
              "      <td id=\"T_df422_row4_col17\" class=\"data row4 col17\" >0</td>\n",
              "    </tr>\n",
              "    <tr>\n",
              "      <th id=\"T_df422_level0_row5\" class=\"row_heading level0 row5\" >5</th>\n",
              "      <td id=\"T_df422_row5_col0\" class=\"data row5 col0\" >0</td>\n",
              "      <td id=\"T_df422_row5_col1\" class=\"data row5 col1\" >0</td>\n",
              "      <td id=\"T_df422_row5_col2\" class=\"data row5 col2\" >0</td>\n",
              "      <td id=\"T_df422_row5_col3\" class=\"data row5 col3\" >0</td>\n",
              "      <td id=\"T_df422_row5_col4\" class=\"data row5 col4\" >0</td>\n",
              "      <td id=\"T_df422_row5_col5\" class=\"data row5 col5\" >60</td>\n",
              "      <td id=\"T_df422_row5_col6\" class=\"data row5 col6\" >119</td>\n",
              "      <td id=\"T_df422_row5_col7\" class=\"data row5 col7\" >163</td>\n",
              "      <td id=\"T_df422_row5_col8\" class=\"data row5 col8\" >84</td>\n",
              "      <td id=\"T_df422_row5_col9\" class=\"data row5 col9\" >84</td>\n",
              "      <td id=\"T_df422_row5_col10\" class=\"data row5 col10\" >84</td>\n",
              "      <td id=\"T_df422_row5_col11\" class=\"data row5 col11\" >84</td>\n",
              "      <td id=\"T_df422_row5_col12\" class=\"data row5 col12\" >100</td>\n",
              "      <td id=\"T_df422_row5_col13\" class=\"data row5 col13\" >252</td>\n",
              "      <td id=\"T_df422_row5_col14\" class=\"data row5 col14\" >252</td>\n",
              "      <td id=\"T_df422_row5_col15\" class=\"data row5 col15\" >252</td>\n",
              "      <td id=\"T_df422_row5_col16\" class=\"data row5 col16\" >180</td>\n",
              "      <td id=\"T_df422_row5_col17\" class=\"data row5 col17\" >0</td>\n",
              "    </tr>\n",
              "    <tr>\n",
              "      <th id=\"T_df422_level0_row6\" class=\"row_heading level0 row6\" >6</th>\n",
              "      <td id=\"T_df422_row6_col0\" class=\"data row6 col0\" >0</td>\n",
              "      <td id=\"T_df422_row6_col1\" class=\"data row6 col1\" >0</td>\n",
              "      <td id=\"T_df422_row6_col2\" class=\"data row6 col2\" >0</td>\n",
              "      <td id=\"T_df422_row6_col3\" class=\"data row6 col3\" >0</td>\n",
              "      <td id=\"T_df422_row6_col4\" class=\"data row6 col4\" >0</td>\n",
              "      <td id=\"T_df422_row6_col5\" class=\"data row6 col5\" >0</td>\n",
              "      <td id=\"T_df422_row6_col6\" class=\"data row6 col6\" >0</td>\n",
              "      <td id=\"T_df422_row6_col7\" class=\"data row6 col7\" >0</td>\n",
              "      <td id=\"T_df422_row6_col8\" class=\"data row6 col8\" >0</td>\n",
              "      <td id=\"T_df422_row6_col9\" class=\"data row6 col9\" >0</td>\n",
              "      <td id=\"T_df422_row6_col10\" class=\"data row6 col10\" >0</td>\n",
              "      <td id=\"T_df422_row6_col11\" class=\"data row6 col11\" >0</td>\n",
              "      <td id=\"T_df422_row6_col12\" class=\"data row6 col12\" >111</td>\n",
              "      <td id=\"T_df422_row6_col13\" class=\"data row6 col13\" >252</td>\n",
              "      <td id=\"T_df422_row6_col14\" class=\"data row6 col14\" >252</td>\n",
              "      <td id=\"T_df422_row6_col15\" class=\"data row6 col15\" >252</td>\n",
              "      <td id=\"T_df422_row6_col16\" class=\"data row6 col16\" >94</td>\n",
              "      <td id=\"T_df422_row6_col17\" class=\"data row6 col17\" >0</td>\n",
              "    </tr>\n",
              "    <tr>\n",
              "      <th id=\"T_df422_level0_row7\" class=\"row_heading level0 row7\" >7</th>\n",
              "      <td id=\"T_df422_row7_col0\" class=\"data row7 col0\" >0</td>\n",
              "      <td id=\"T_df422_row7_col1\" class=\"data row7 col1\" >0</td>\n",
              "      <td id=\"T_df422_row7_col2\" class=\"data row7 col2\" >0</td>\n",
              "      <td id=\"T_df422_row7_col3\" class=\"data row7 col3\" >0</td>\n",
              "      <td id=\"T_df422_row7_col4\" class=\"data row7 col4\" >0</td>\n",
              "      <td id=\"T_df422_row7_col5\" class=\"data row7 col5\" >0</td>\n",
              "      <td id=\"T_df422_row7_col6\" class=\"data row7 col6\" >0</td>\n",
              "      <td id=\"T_df422_row7_col7\" class=\"data row7 col7\" >0</td>\n",
              "      <td id=\"T_df422_row7_col8\" class=\"data row7 col8\" >0</td>\n",
              "      <td id=\"T_df422_row7_col9\" class=\"data row7 col9\" >0</td>\n",
              "      <td id=\"T_df422_row7_col10\" class=\"data row7 col10\" >0</td>\n",
              "      <td id=\"T_df422_row7_col11\" class=\"data row7 col11\" >44</td>\n",
              "      <td id=\"T_df422_row7_col12\" class=\"data row7 col12\" >227</td>\n",
              "      <td id=\"T_df422_row7_col13\" class=\"data row7 col13\" >252</td>\n",
              "      <td id=\"T_df422_row7_col14\" class=\"data row7 col14\" >252</td>\n",
              "      <td id=\"T_df422_row7_col15\" class=\"data row7 col15\" >206</td>\n",
              "      <td id=\"T_df422_row7_col16\" class=\"data row7 col16\" >14</td>\n",
              "      <td id=\"T_df422_row7_col17\" class=\"data row7 col17\" >0</td>\n",
              "    </tr>\n",
              "    <tr>\n",
              "      <th id=\"T_df422_level0_row8\" class=\"row_heading level0 row8\" >8</th>\n",
              "      <td id=\"T_df422_row8_col0\" class=\"data row8 col0\" >0</td>\n",
              "      <td id=\"T_df422_row8_col1\" class=\"data row8 col1\" >0</td>\n",
              "      <td id=\"T_df422_row8_col2\" class=\"data row8 col2\" >0</td>\n",
              "      <td id=\"T_df422_row8_col3\" class=\"data row8 col3\" >0</td>\n",
              "      <td id=\"T_df422_row8_col4\" class=\"data row8 col4\" >0</td>\n",
              "      <td id=\"T_df422_row8_col5\" class=\"data row8 col5\" >0</td>\n",
              "      <td id=\"T_df422_row8_col6\" class=\"data row8 col6\" >0</td>\n",
              "      <td id=\"T_df422_row8_col7\" class=\"data row8 col7\" >0</td>\n",
              "      <td id=\"T_df422_row8_col8\" class=\"data row8 col8\" >0</td>\n",
              "      <td id=\"T_df422_row8_col9\" class=\"data row8 col9\" >0</td>\n",
              "      <td id=\"T_df422_row8_col10\" class=\"data row8 col10\" >0</td>\n",
              "      <td id=\"T_df422_row8_col11\" class=\"data row8 col11\" >132</td>\n",
              "      <td id=\"T_df422_row8_col12\" class=\"data row8 col12\" >252</td>\n",
              "      <td id=\"T_df422_row8_col13\" class=\"data row8 col13\" >252</td>\n",
              "      <td id=\"T_df422_row8_col14\" class=\"data row8 col14\" >252</td>\n",
              "      <td id=\"T_df422_row8_col15\" class=\"data row8 col15\" >151</td>\n",
              "      <td id=\"T_df422_row8_col16\" class=\"data row8 col16\" >0</td>\n",
              "      <td id=\"T_df422_row8_col17\" class=\"data row8 col17\" >0</td>\n",
              "    </tr>\n",
              "    <tr>\n",
              "      <th id=\"T_df422_level0_row9\" class=\"row_heading level0 row9\" >9</th>\n",
              "      <td id=\"T_df422_row9_col0\" class=\"data row9 col0\" >0</td>\n",
              "      <td id=\"T_df422_row9_col1\" class=\"data row9 col1\" >0</td>\n",
              "      <td id=\"T_df422_row9_col2\" class=\"data row9 col2\" >0</td>\n",
              "      <td id=\"T_df422_row9_col3\" class=\"data row9 col3\" >0</td>\n",
              "      <td id=\"T_df422_row9_col4\" class=\"data row9 col4\" >0</td>\n",
              "      <td id=\"T_df422_row9_col5\" class=\"data row9 col5\" >0</td>\n",
              "      <td id=\"T_df422_row9_col6\" class=\"data row9 col6\" >0</td>\n",
              "      <td id=\"T_df422_row9_col7\" class=\"data row9 col7\" >0</td>\n",
              "      <td id=\"T_df422_row9_col8\" class=\"data row9 col8\" >0</td>\n",
              "      <td id=\"T_df422_row9_col9\" class=\"data row9 col9\" >0</td>\n",
              "      <td id=\"T_df422_row9_col10\" class=\"data row9 col10\" >0</td>\n",
              "      <td id=\"T_df422_row9_col11\" class=\"data row9 col11\" >237</td>\n",
              "      <td id=\"T_df422_row9_col12\" class=\"data row9 col12\" >252</td>\n",
              "      <td id=\"T_df422_row9_col13\" class=\"data row9 col13\" >252</td>\n",
              "      <td id=\"T_df422_row9_col14\" class=\"data row9 col14\" >164</td>\n",
              "      <td id=\"T_df422_row9_col15\" class=\"data row9 col15\" >10</td>\n",
              "      <td id=\"T_df422_row9_col16\" class=\"data row9 col16\" >0</td>\n",
              "      <td id=\"T_df422_row9_col17\" class=\"data row9 col17\" >0</td>\n",
              "    </tr>\n",
              "    <tr>\n",
              "      <th id=\"T_df422_level0_row10\" class=\"row_heading level0 row10\" >10</th>\n",
              "      <td id=\"T_df422_row10_col0\" class=\"data row10 col0\" >0</td>\n",
              "      <td id=\"T_df422_row10_col1\" class=\"data row10 col1\" >0</td>\n",
              "      <td id=\"T_df422_row10_col2\" class=\"data row10 col2\" >0</td>\n",
              "      <td id=\"T_df422_row10_col3\" class=\"data row10 col3\" >0</td>\n",
              "      <td id=\"T_df422_row10_col4\" class=\"data row10 col4\" >0</td>\n",
              "      <td id=\"T_df422_row10_col5\" class=\"data row10 col5\" >0</td>\n",
              "      <td id=\"T_df422_row10_col6\" class=\"data row10 col6\" >0</td>\n",
              "      <td id=\"T_df422_row10_col7\" class=\"data row10 col7\" >0</td>\n",
              "      <td id=\"T_df422_row10_col8\" class=\"data row10 col8\" >0</td>\n",
              "      <td id=\"T_df422_row10_col9\" class=\"data row10 col9\" >0</td>\n",
              "      <td id=\"T_df422_row10_col10\" class=\"data row10 col10\" >110</td>\n",
              "      <td id=\"T_df422_row10_col11\" class=\"data row10 col11\" >253</td>\n",
              "      <td id=\"T_df422_row10_col12\" class=\"data row10 col12\" >252</td>\n",
              "      <td id=\"T_df422_row10_col13\" class=\"data row10 col13\" >252</td>\n",
              "      <td id=\"T_df422_row10_col14\" class=\"data row10 col14\" >84</td>\n",
              "      <td id=\"T_df422_row10_col15\" class=\"data row10 col15\" >0</td>\n",
              "      <td id=\"T_df422_row10_col16\" class=\"data row10 col16\" >0</td>\n",
              "      <td id=\"T_df422_row10_col17\" class=\"data row10 col17\" >0</td>\n",
              "    </tr>\n",
              "  </tbody>\n",
              "</table>\n"
            ],
            "text/plain": [
              "<pandas.io.formats.style.Styler at 0x7f5a529661d0>"
            ]
          },
          "metadata": {},
          "execution_count": 10
        }
      ]
    },
    {
      "cell_type": "code",
      "source": [
        "#Based Line model # for start Point \n",
        "threes_tensors= [tensor(Image.open(f)) for f in threes] # hameye aks haee ke as threes dasktim ra be tensor motanazer tabdil mikonim\n",
        "# va 1 list azashoon dorost mikonim\n",
        "seven_tensors = [tensor(Image.open(f)) for f in sevens]"
      ],
      "metadata": {
        "id": "G5Vnfvoxaiaa"
      },
      "execution_count": null,
      "outputs": []
    },
    {
      "cell_type": "code",
      "source": [
        "len(seven_tensors)\n",
        "seven_tensors[1].shape\n",
        "show_image(seven_tensors[1])"
      ],
      "metadata": {
        "colab": {
          "base_uri": "https://localhost:8080/",
          "height": 102
        },
        "id": "cBnTyglzdGzu",
        "outputId": "dadb27ec-43bd-4e14-8f94-97efa7c7cbd6"
      },
      "execution_count": null,
      "outputs": [
        {
          "output_type": "execute_result",
          "data": {
            "text/plain": [
              "<matplotlib.axes._subplots.AxesSubplot at 0x7f5a51f220d0>"
            ]
          },
          "metadata": {},
          "execution_count": 16
        },
        {
          "output_type": "display_data",
          "data": {
            "image/png": "[encoded data removed]",
            "text/plain": [
              "<Figure size 72x72 with 1 Axes>"
            ]
          },
          "metadata": {
            "needs_background": "light"
          }
        }
      ]
    },
    {
      "cell_type": "code",
      "source": [
        "stacked_threes = torch.stack(threes_tensors).float() / 255 \n",
        "# stack all image with size 28*28 and normalized that\n",
        "stacked_sevens = torch.stack(seven_tensors).float() / 255"
      ],
      "metadata": {
        "id": "qZvAVuIvcrbu"
      },
      "execution_count": null,
      "outputs": []
    },
    {
      "cell_type": "code",
      "source": [
        "print ( stacked_threes.shape)"
      ],
      "metadata": {
        "colab": {
          "base_uri": "https://localhost:8080/"
        },
        "id": "4XMjXfZDeF2N",
        "outputId": "9717c56c-d713-48c1-b400-ad85790fb1b4"
      },
      "execution_count": null,
      "outputs": [
        {
          "output_type": "stream",
          "name": "stdout",
          "text": [
            "torch.Size([6131, 28, 28])\n"
          ]
        }
      ]
    },
    {
      "cell_type": "code",
      "source": [
        "print(stacked_threes.shape)\n",
        "a_3 = stacked_threes[34]\n",
        "a_7 = stacked_sevens[34]\n",
        "a_7.shape"
      ],
      "metadata": {
        "colab": {
          "base_uri": "https://localhost:8080/"
        },
        "id": "62Zf3bVcc_Q0",
        "outputId": "8244a74e-1523-4020-ebe8-92cc78c9ff89"
      },
      "execution_count": null,
      "outputs": [
        {
          "output_type": "stream",
          "name": "stdout",
          "text": [
            "torch.Size([6131, 28, 28])\n"
          ]
        },
        {
          "output_type": "execute_result",
          "data": {
            "text/plain": [
              "torch.Size([28, 28])"
            ]
          },
          "metadata": {},
          "execution_count": 20
        }
      ]
    },
    {
      "cell_type": "code",
      "source": [
        "# we want to compute mean of all image in direction firt dimation \n",
        "mean3 = stacked_threes.mean(0)\n",
        "mean7 = stacked_sevens.mean(0)\n",
        "show_image(mean3), show_image(mean7)"
      ],
      "metadata": {
        "colab": {
          "base_uri": "https://localhost:8080/",
          "height": 188
        },
        "id": "HYhW13_HfVD5",
        "outputId": "57a88d17-ea31-4adb-c987-499f265c1846"
      },
      "execution_count": null,
      "outputs": [
        {
          "output_type": "execute_result",
          "data": {
            "text/plain": [
              "(<matplotlib.axes._subplots.AxesSubplot at 0x7f5a52869790>,\n",
              " <matplotlib.axes._subplots.AxesSubplot at 0x7f5a51fda210>)"
            ]
          },
          "metadata": {},
          "execution_count": 21
        },
        {
          "output_type": "display_data",
          "data": {
            "image/png": "[encoded data removed]",
            "text/plain": [
              "<Figure size 72x72 with 1 Axes>"
            ]
          },
          "metadata": {
            "needs_background": "light"
          }
        },
        {
          "output_type": "display_data",
          "data": {
            "image/png": "[encoded data removed]",
            "text/plain": [
              "<Figure size 72x72 with 1 Axes>"
            ]
          },
          "metadata": {
            "needs_background": "light"
          }
        }
      ]
    },
    {
      "cell_type": "code",
      "source": [
        "#calcute mean squre error\n",
        "def img_distance (a, b ):\n",
        "  return ( a - b).abs().mean() \n",
        "   # if dont values for argument \n",
        "  # compute mean for all tensors\n",
        "img_distance(a_7, mean7)\n",
        "img_distance(a_7, mean3)"
      ],
      "metadata": {
        "colab": {
          "base_uri": "https://localhost:8080/"
        },
        "id": "eOm8WB-1gHU3",
        "outputId": "9a06e656-2ab1-4102-9811-0acaf823b0fe"
      },
      "execution_count": null,
      "outputs": [
        {
          "output_type": "execute_result",
          "data": {
            "text/plain": [
              "tensor(0.1541)"
            ]
          },
          "metadata": {},
          "execution_count": 22
        }
      ]
    },
    {
      "cell_type": "code",
      "source": [
        "img_distance(a_3, mean7)\n"
      ],
      "metadata": {
        "colab": {
          "base_uri": "https://localhost:8080/"
        },
        "id": "5S_rWI_Aic4y",
        "outputId": "a97dd7e7-295a-4eec-cd28-8c0ea78d2b62"
      },
      "execution_count": null,
      "outputs": [
        {
          "output_type": "execute_result",
          "data": {
            "text/plain": [
              "tensor(0.1253)"
            ]
          },
          "metadata": {},
          "execution_count": 23
        }
      ]
    },
    {
      "cell_type": "code",
      "source": [
        "a_7.size()"
      ],
      "metadata": {
        "id": "duDoe-MMhxzH"
      },
      "execution_count": null,
      "outputs": []
    },
    {
      "cell_type": "code",
      "source": [
        "mean7.size()"
      ],
      "metadata": {
        "colab": {
          "base_uri": "https://localhost:8080/"
        },
        "id": "FwonRIS_hZJY",
        "outputId": "44f310cc-71a4-4c48-d6d5-b7d47d5741d1"
      },
      "execution_count": null,
      "outputs": [
        {
          "output_type": "execute_result",
          "data": {
            "text/plain": [
              "torch.Size([28, 28])"
            ]
          },
          "metadata": {},
          "execution_count": 25
        }
      ]
    },
    {
      "cell_type": "code",
      "source": [
        "# stack all valid sample tensors:\n",
        "valid_3_tensors = torch.stack([tensor(Image.open(f)) for f in  (path / 'valid/3').ls()])\n",
        "valid_7_tensors = torch.stack([tensor(Image.open(f)) for f in  (path / 'valid/7').ls()])\n",
        "\n",
        "# Normalize tensors:\n",
        "valid_3_tensors = valid_3_tensors.float() / 255\n",
        "valid_7_tensors = valid_7_tensors.float() / 255\n",
        "\n",
        "print(valid_3_tensors.shape)"
      ],
      "metadata": {
        "colab": {
          "base_uri": "https://localhost:8080/"
        },
        "id": "7kX9NfzBiCoD",
        "outputId": "673a91c9-3864-429e-f5a7-b59fde4db057"
      },
      "execution_count": null,
      "outputs": [
        {
          "output_type": "stream",
          "name": "stdout",
          "text": [
            "torch.Size([1010, 28, 28])\n"
          ]
        }
      ]
    },
    {
      "cell_type": "code",
      "source": [
        "def  mnist_distance(input, mean_tensor):\n",
        "  return (input-mean_tensor).abs().mean((-1,-2))\n",
        "\n",
        "def is_3(x):\n",
        "  return (img_distance(x, mean3) < mnist_distance(x,mean7)).float() \n",
        "  # if condition True return 1 else return 0\n",
        "def is_7(x):\n",
        "  return (img_distance(x, mean7) < mnist_distance(x,mean3)).float() \n",
        "  # if condition True return 1 else return 0"
      ],
      "metadata": {
        "id": "dw2FIcpaiynC"
      },
      "execution_count": null,
      "outputs": []
    },
    {
      "cell_type": "code",
      "source": [
        "accuracy_3s = is_3 (valid_3_tensors).mean() # \n",
        "accuracy_3s"
      ],
      "metadata": {
        "colab": {
          "base_uri": "https://localhost:8080/"
        },
        "id": "_8-CuZJcmzRf",
        "outputId": "1ebf97af-e655-4d3e-f384-4f836f150a75"
      },
      "execution_count": null,
      "outputs": [
        {
          "output_type": "execute_result",
          "data": {
            "text/plain": [
              "tensor(0.9168)"
            ]
          },
          "metadata": {},
          "execution_count": 40
        }
      ]
    },
    {
      "cell_type": "code",
      "source": [
        "accuracy_7s = is_7 (valid_7_tensors).mean() # \n",
        "accuracy_7s"
      ],
      "metadata": {
        "colab": {
          "base_uri": "https://localhost:8080/"
        },
        "id": "dWdP317tKvAx",
        "outputId": "98df3e1b-55e1-4c12-8b25-945333fb8867"
      },
      "execution_count": null,
      "outputs": [
        {
          "output_type": "execute_result",
          "data": {
            "text/plain": [
              "tensor(0.9854)"
            ]
          },
          "metadata": {},
          "execution_count": 41
        }
      ]
    }
  ]
}